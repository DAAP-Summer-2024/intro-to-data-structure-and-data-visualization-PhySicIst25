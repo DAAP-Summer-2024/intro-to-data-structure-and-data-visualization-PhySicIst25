{
 "cells": [
  {
   "cell_type": "markdown",
   "metadata": {},
   "source": [
    "# Data Analysis for Physics and Astronomy\n",
    "## Sommersemster 2024 \n",
    "# Assignment 1\n",
    "\n",
    "Due: **10:00 30. April 2024**\n",
    "\n",
    "Discussion: **12:00 30. April 2024**\n",
    "\n",
    "**Online submission** at via github classroom  "
   ]
  },
  {
   "cell_type": "markdown",
   "metadata": {},
   "source": [
    "# 1. Sampling [70 points]\n",
    "\n",
    "The Behavioral Risk Factor Surveillance System (BRFSS) is an annual telephone survey of 350,000 people in the United States. As its\n",
    "name implies, the BRFSS is designed to identify risk factors in the adult population and report emerging health trends. For example,\n",
    "respondents are asked about their diet and weekly physical activity, their HIV/AIDS status, possible tobacco use, and even their level of\n",
    "healthcare coverage. The BRFSS Web site (http://www.cdc.gov/brfss) contains a complete description of the survey, including the research\n",
    "questions that motivate the study and many interesting results derived from the data."
   ]
  },
  {
   "cell_type": "code",
   "execution_count": 1,
   "metadata": {},
   "outputs": [],
   "source": [
    "%matplotlib inline"
   ]
  },
  {
   "cell_type": "markdown",
   "metadata": {},
   "source": [
    "## Visually inspect the ASCII data file from the Data/ directory\n",
    "The data file is zipped: `cdbrfss1999.zip`. Unzip it and look at it. It is in ASCII format.\n",
    "\n",
    "The file `Codebook99.rtf` contains a detailed explanation of the individual data entries. Use the\n",
    "Cookbook to understand the data columns that you are working on in this problem."
   ]
  },
  {
   "cell_type": "markdown",
   "metadata": {},
   "source": [
    "## Large data\n",
    "\n",
    "The dataset contains 159989 entries."
   ]
  },
  {
   "cell_type": "markdown",
   "metadata": {},
   "source": [
    "**a.** Take a sample of 30000 from this dataset and export it to an ASCII file. Make sure that your method allows to draw more than one sample from the population. **[10 points]**"
   ]
  },
  {
   "cell_type": "code",
   "execution_count": null,
   "metadata": {},
   "outputs": [
    {
     "name": "stderr",
     "output_type": "stream",
     "text": [
      "/tmp/ipykernel_7104/584736844.py:3: DtypeWarning: Columns (8) have mixed types. Specify dtype option on import or set low_memory=False.\n",
      "  cdbrfss = pd.read_csv('Data/cdbrfss1999.zip', compression='zip') #inhalt aus .zip datei wird gelesen\n"
     ]
    },
    {
     "name": "stdout",
     "output_type": "stream",
     "text": [
      "30000\n"
     ]
    }
   ],
   "source": [
    "#cdbrfss = # TODO: import the file cdbrfss1999.csv with the Pandas command pd.read_csv . This creates the DataFrame cdbrfss. You can read directly from the zip file with the compression='zip' option.\n",
    "import pandas as pd\n",
    "cdbrfss = pd.read_csv('Data/cdbrfss1999.zip', compression='zip') #inhalt aus .zip datei wird gelesen\n",
    "sample_cdbrfss = cdbrfss.sample(30000, random_state=7) # 30000 Zeilen, jeweils die 7. Zeile genommen für Reproduzierbarkeit\n",
    "\n",
    "sample_cdbrfss.to_csv('Data/sample_cdbrfss.csv', index=False, encoding='ascii') # die 30000 Zeilen werden in eine neue csv datei geschrieben\n",
    "\n",
    "print(len(sample_cdbrfss)) # wie viele Zeilen sind in der neuen csv datei\n",
    "\n",
    "\n"
   ]
  },
  {
   "cell_type": "markdown",
   "metadata": {},
   "source": [
    "Look up the `DataFrame.sample()` method here: [DOCUMENTATION](https://pandas.pydata.org/docs/reference/api/pandas.DataFrame.sample.html#pandas.DataFrame.sample)"
   ]
  },
  {
   "cell_type": "code",
   "execution_count": null,
   "metadata": {},
   "outputs": [],
   "source": [
    "# TODO: Pandas DataFrames have the method .sample associated to randomly sample from the list. "
   ]
  },
  {
   "cell_type": "markdown",
   "metadata": {},
   "source": [
    "**b.** Discuss your method to do so. Is your sampling a \"good sample\" in the sense that it is representative for the larger \"population\"? **[5 points]**"
   ]
  },
  {
   "cell_type": "markdown",
   "metadata": {},
   "source": [
    "da .sample zufällig wählt, sind die Daten willkürlich und repräsentativ"
   ]
  },
  {
   "cell_type": "markdown",
   "metadata": {},
   "source": [
    "## Large columns\n",
    "\n",
    "Each case in the dataset can have up to 241 variables. Each one of these variables corresponds to a question that was asked in the survey. For example, for **genhlth**, respondents were asked to evaluate their general health, responding either excellent, very good, good, fair or poor. The **exerany** variable indicates whether the respondent exercised in the past month (1) or did not (0). Likewise, **hlthplan** indicates whether the respondent had some form of health coverage (1) or did not (0). The **smoke100** variable indicates whether the respondent had smoked at least 100 cigarettes in her lifetime. The other variables record the respondent’s height in inches (**hti**) and feet (**htf**), **weight** in pounds as well as their desired weight, **wtdesire**, **age** in years, and **sex**."
   ]
  },
  {
   "cell_type": "markdown",
   "metadata": {},
   "source": [
    "**a.** Locate the columns corresponding to the variables **genhlth**, **exerany**, **htf**, **hti**, **smoke100**, **weight**, **wtdesire**, **age**, and **sex**."
   ]
  },
  {
   "cell_type": "markdown",
   "metadata": {},
   "source": [
    "Any reasonable method of isolating the columns and saving the subsample is accepted. For `pandas`, the list of column names is an attribute of the `DataFrame` object, and where columns without a column name are given the title 'Unnamed: [index]'."
   ]
  },
  {
   "cell_type": "code",
   "execution_count": null,
   "metadata": {},
   "outputs": [
    {
     "name": "stdout",
     "output_type": "stream",
     "text": [
      "       GENHLTH  EXERANY  HTF  HTI  SMOKE100  WEIGHT  WTDESIRE  AGE  SEX\n",
      "0            2      NaN    6    2         1     195       NaN   56    1\n",
      "1            2      NaN    5    9         1     236       NaN   53    1\n",
      "2            1      NaN    5   11         1     172       NaN   41    1\n",
      "3            2      NaN    5    6         1     125       NaN   33    2\n",
      "4            2      NaN    5    9         2     196       NaN   36    1\n",
      "...        ...      ...  ...  ...       ...     ...       ...  ...  ...\n",
      "29995        2      NaN    5    3         1     135       NaN   74    2\n",
      "29996        1      NaN    5    4         1     115       NaN   27    2\n",
      "29997        2      NaN    5    6         1     165       NaN   54    2\n",
      "29998        1      NaN    5   10         2     175       NaN   34    1\n",
      "29999        2      NaN    5    5         2     150       NaN   39    2\n",
      "\n",
      "[30000 rows x 9 columns]\n"
     ]
    }
   ],
   "source": [
    "import pandas as pd\n",
    "cdbrfss = pd.read_csv('Data/sample_cdbrfss.csv') #inhalt aus sample datei wird gelesen\n",
    "#mithilfe von Copilot\n",
    "columns_of_interest = ['GENHLTH', 'EXERANY', 'HTF', 'HTI', 'SMOKE100', 'WEIGHT', 'WTDESIRE', 'AGE', 'SEX']\n",
    "               #erstelle liste mit den Spalten, die ich haben möchte        \n",
    "available_columns = [col for col in columns_of_interest if col in cdbrfss.columns]\n",
    "               #durchsuchen der Spalten in der Liste, die ich haben möchte und die auch in der csv datei vorhanden sind\n",
    "filtered_cdbrfss = cdbrfss[available_columns] # Filter the DataFrame to include only the columns of interest\n",
    "\n",
    "print(filtered_cdbrfss) # print the columns that are available in the DataFrame"
   ]
  },
  {
   "cell_type": "code",
   "execution_count": 6,
   "metadata": {},
   "outputs": [
    {
     "data": {
      "text/plain": [
       "Index(['STATE', 'GEOSTR', 'DENSTR', 'PSU', 'RECORD', 'IMONTH ', 'IDAY ',\n",
       "       'IYEAR ', 'INTVID ', 'Unnamed: 9',\n",
       "       ...\n",
       "       'Unnamed: 272', 'Unnamed: 273', 'Unnamed: 274', 'Unnamed: 275',\n",
       "       'Unnamed: 276', 'Unnamed: 277', 'Unnamed: 278', 'Unnamed: 279',\n",
       "       'Unnamed: 280', 'Unnamed: 281'],\n",
       "      dtype='object', length=282)"
      ]
     },
     "execution_count": 6,
     "metadata": {},
     "output_type": "execute_result"
    }
   ],
   "source": [
    "cdbrfss.columns"
   ]
  },
  {
   "cell_type": "code",
   "execution_count": 7,
   "metadata": {},
   "outputs": [
    {
     "data": {
      "text/plain": [
       "array(['STATE', 'GEOSTR', 'DENSTR', 'PSU', 'RECORD', 'IMONTH ', 'IDAY ',\n",
       "       'IYEAR ', 'INTVID ', 'Unnamed: 9', 'DISPCODE', 'WINDDOWN', 'SEQNO',\n",
       "       'NATTMPTS', 'NRECSEL', 'NRECSTR', 'BPSELWT', 'WAKSS1S2',\n",
       "       'NUMADULT', 'NUMMEN', 'NUMWOMEN', 'GENHLTH', 'PHYSHLTH',\n",
       "       'MENTHLTH', 'POORHLTH', 'HLTHPLAN', 'MEDICAR2', 'TYPCOVR1',\n",
       "       'TYPCOVR2', 'NOCOV12', 'PASTPLAN', 'MEDCOST', 'CHECKUP', 'BPTAKE',\n",
       "       'BPHIGH', 'HIGHGT1', 'BLOODCHO', 'CHOLCHK', 'TOLDHI', 'DIABETES',\n",
       "       'LASTDEN2', 'RMVTEETH', 'DENCLEAN', 'SUNBURN', 'NUMBURN',\n",
       "       'SMOKE100', 'SMOKEDAY', 'SMOKENUM', 'SMOKNM30', 'STOPSMOK',\n",
       "       'LASTSMOK', 'DRINKANY', 'ALCOHOL', 'NALCOCC', 'DRINKGE5',\n",
       "       'DRINKDRI', 'AGE', 'ORACE', 'HISPANIC', 'MARITAL', 'CHLD04',\n",
       "       'CHLD0512', 'CHLD1317', 'EDUCA', 'EMPLOY', 'INCOME2', 'WEIGHT',\n",
       "       'HTF', 'HTI', 'CTYCODE', 'NUMHHOLD', 'NUMPHONS', 'SEX', 'HADMAM',\n",
       "       'HOWLONG', 'WHYDONE', 'PROFEXAM', 'LENGEXAM', 'REASEXAM', 'HADPAP',\n",
       "       'LASTPAP', 'WHYPAP', 'HADHYST', 'PREGNANT', 'FLUSHOT', 'FLUPROV',\n",
       "       'PNEUMVAC', 'BLDSTOOL', 'LSTBLDST', 'HADSIGM', 'LASTSIGM',\n",
       "       'CHLDLT16', 'BIKEHLMT', 'SMKDETE2', 'GRADE2', 'CONDUSE', 'GETHIV',\n",
       "       'DONBLD85', 'DON12MO', 'HIVTST2A', 'HIVTST2B', 'HIV12MO',\n",
       "       'TEST12MO', 'RSNTST2', 'WHRTST3', 'RESULTS', 'COUNSEL', 'DIABAGE',\n",
       "       'INSULIN', 'INSLNFRQ', 'BLDSUGAR', 'HEMOGLBN', 'DOCTDIAB',\n",
       "       'CHKHEMO', 'FEETCHK', 'EYEEXAM', 'VISNDIST', 'VISNREAD',\n",
       "       'VISIONTV', 'SEXINTMN', 'SEXCONDM', 'CONDLAST', 'CONEFF2',\n",
       "       'NEWPARTN', 'HIVRISK', 'STDTREAT', 'STDCLIN', 'SEXBEHA2',\n",
       "       'SELCPTN3', 'SEX1PTN3', 'USECOND3', 'PREGLST5', 'LSTPREG',\n",
       "       'LSTPREG2', 'BRTHCNTL', 'TYPCNTRL', 'RSNNOBC', 'WHRSVCS',\n",
       "       'FAMPLAN', 'LASTUSED', 'RSNNOCOV', 'MCRELNGT', 'DOCTLIST',\n",
       "       'CERTDOCT', 'HLTHCOVR', 'RSNWOCOV', 'RATECARE', 'PRIMCARE',\n",
       "       'NOPRIMCR', 'MOSTCARE', 'FACILIT2', 'DISTCARE', 'NUMBDOC2',\n",
       "       'CHNGDOCT', 'LASTCHNG', 'ASTHMA', 'ASTHNOW', 'PCSEATHB', 'PCSEXER',\n",
       "       'PCSINJPV', 'PCSDRGAB', 'PCSALCH', 'PCSSMOK', 'PCSAIDS',\n",
       "       'CVDFATRK', 'CVDEXRSK', 'CVDFAT02', 'CVDEXR02', 'CVDINFAR',\n",
       "       'CVDCORHD', 'CVDSTROK', 'CVDASPRN', 'ASPUNSAF', 'WHYASPAN',\n",
       "       'WHYASPHA', 'WHYASPSK', 'PASTMENO', 'DICSESTR', 'ESTRPILL',\n",
       "       'CURESTRO', 'ESTRHART', 'ESTRBONE', 'ESTRFLSH', 'PAIN12MN',\n",
       "       'SYMTMMTH', 'LMTJOINT', 'HAVARTH', 'TYPEARTH', 'TRTARTH',\n",
       "       'FRUITJUI', 'FRUIT', 'GREENSAL', 'POTATOES', 'CARROTS', 'VEGETABL',\n",
       "       'EXERANY', 'EXERACT1', 'EXERDIS1', 'EXEROFT1', 'EXERHMM1',\n",
       "       'EXEROTH2', 'EXERACT2', 'EXERDIS2', 'EXEROFT2', 'EXERHMM2',\n",
       "       'LOSEWT', 'MAINTAIN', 'FEWCAL', 'PHYACT', 'WTDESIRE', 'DRADVICE',\n",
       "       'VITAMINS', 'MULTIVIT', 'FOLICACD', 'TAKEVIT', 'RECOMMEN',\n",
       "       'SUNBLOCK', 'SPFNUM', 'AVOIDSUN', 'SUNHAT', 'SUNWEAR', 'SUNSENS',\n",
       "       'BURNTYPE', 'HOWSAFE', 'RENTHOME', 'CURADRS', 'NMCLSFRD',\n",
       "       'ENGHFOOD', 'TOBACCO', 'INDOORS', 'SMKPUBLC', 'SMKWORK', 'SMKREST',\n",
       "       'SMKSCHLS', 'SMKDAYCR', 'SMKINDOR', 'USEEVER', 'USENOW',\n",
       "       'STATEQUE ', 'Unnamed: 239', 'QSTVER', 'STSTR', 'Unnamed: 242',\n",
       "       'Unnamed: 243', 'Unnamed: 244', 'Unnamed: 245', 'Unnamed: 246',\n",
       "       'Unnamed: 247', 'Unnamed: 248', 'Unnamed: 249', 'Unnamed: 250',\n",
       "       'Unnamed: 251', 'Unnamed: 252', 'Unnamed: 253', 'Unnamed: 254',\n",
       "       'Unnamed: 255', 'Unnamed: 256', 'Unnamed: 257', 'Unnamed: 258',\n",
       "       'Unnamed: 259', 'Unnamed: 260', 'Unnamed: 261', 'Unnamed: 262',\n",
       "       'Unnamed: 263', 'Unnamed: 264', 'Unnamed: 265', 'Unnamed: 266',\n",
       "       'Unnamed: 267', 'Unnamed: 268', 'Unnamed: 269', 'Unnamed: 270',\n",
       "       'Unnamed: 271', 'Unnamed: 272', 'Unnamed: 273', 'Unnamed: 274',\n",
       "       'Unnamed: 275', 'Unnamed: 276', 'Unnamed: 277', 'Unnamed: 278',\n",
       "       'Unnamed: 279', 'Unnamed: 280', 'Unnamed: 281'], dtype=object)"
      ]
     },
     "execution_count": 7,
     "metadata": {},
     "output_type": "execute_result"
    }
   ],
   "source": [
    "cdbrfss.columns.values"
   ]
  },
  {
   "cell_type": "code",
   "execution_count": null,
   "metadata": {},
   "outputs": [
    {
     "name": "stdout",
     "output_type": "stream",
     "text": [
      "['GENHLTH', 'EXERANY', 'HLTHPLAN', 'SMOKE100', 'HTF', 'HTI', 'WEIGHT', 'WTDESIRE', 'AGE', 'SEX']\n"
     ]
    }
   ],
   "source": [
    "# TODO: understand what the following commands do\n",
    "columns = {\"GENHLTH\":22, \"EXERANY\":196, \"HLTHPLAN\":26, \"SMOKE100\":46, \"HTF\":68, \"HTI\":69, \"WEIGHT\":67, \"WTDESIRE\":210, \"AGE\":57, \"SEX\":73}\n",
    "#columns erzeugt ein Dictionary mit den Spaltennamen und den dazugehörigen Zahlen, in die\n",
    "#es umbenannt werden soll\n",
    "desired_column_names = [key for key, value in columns.items()]\n",
    "#erstellt eine Liste mit den Spaltennamen, die ich haben möchte\n",
    "#liest nur die keys aus dem Dictionary aus, nicht die values\n",
    "print(desired_column_names)\n",
    "#die Liste wird ausgegeben und ich sehe, dass die Spaltennamen, die ich haben möchte, auch in der Liste sind"
   ]
  },
  {
   "cell_type": "markdown",
   "metadata": {
    "slideshow": {
     "slide_type": "-"
    },
    "tags": [
     "problem_sheet"
    ]
   },
   "source": [
    "**b.** Reduce your sample to include only these variables and export it to an ASCII file. **[2 points]**"
   ]
  },
  {
   "cell_type": "markdown",
   "metadata": {},
   "source": [
    "- Use the method `DataFrame.loc` [DOCUMENTATION](https://pandas.pydata.org/docs/reference/api/pandas.DataFrame.loc.html) to select the columns you want.\n",
    "\n",
    "- Use the method `DataFrame.to_csv` [DOCUMENTATION](https://pandas.pydata.org/docs/reference/api/pandas.DataFrame.to_csv.html) to export the subset to a CSV file."
   ]
  },
  {
   "cell_type": "code",
   "execution_count": 20,
   "metadata": {},
   "outputs": [],
   "source": [
    "import pandas as pd\n",
    "cdbrfss = pd.read_csv('Data/sample_cdbrfss.csv') #inhalt aus sample datei wird gelesen\n",
    "#mithilfe von Copilot\n",
    "columns_of_interest = ['GENHLTH', 'EXERANY', 'HTF', 'HTI', 'SMOKE100', 'WEIGHT', 'WTDESIRE', 'AGE', 'SEX']\n",
    "               #erstelle liste mit den Spalten, die ich haben möchte        \n",
    "available_columns = [col for col in columns_of_interest if col in cdbrfss.columns]\n",
    "               #durchsuchen der Spalten in der Liste, die ich haben möchte und die auch in der csv datei vorhanden sind\n",
    "filtered_cdbrfss = cdbrfss[available_columns] # Filter the DataFrame to include only the columns of interest\n",
    "\n",
    "filtered_cdbrfss_csv = filtered_cdbrfss.to_csv('Data/filtered_cdbrfss.csv', index=False, encoding='ascii')\n",
    "#print(filtered_cdbrfss) # print the columns that are available in the DataFrame"
   ]
  },
  {
   "cell_type": "markdown",
   "metadata": {},
   "source": [
    "mit .loc habe ich wohl noch probleme "
   ]
  },
  {
   "cell_type": "code",
   "execution_count": 19,
   "metadata": {},
   "outputs": [
    {
     "ename": "InvalidIndexError",
     "evalue": "['GENHLTH', 'EXERANY', 'HTF', 'HTI', 'SMOKE100', 'WEIGHT', 'WTDESIRE', 'AGE', 'SEX']",
     "output_type": "error",
     "traceback": [
      "\u001b[0;31m---------------------------------------------------------------------------\u001b[0m",
      "\u001b[0;31mInvalidIndexError\u001b[0m                         Traceback (most recent call last)",
      "Cell \u001b[0;32mIn[19], line 3\u001b[0m\n\u001b[1;32m      1\u001b[0m \u001b[38;5;28;01mimport\u001b[39;00m\u001b[38;5;250m \u001b[39m\u001b[38;5;21;01mpandas\u001b[39;00m\u001b[38;5;250m \u001b[39m\u001b[38;5;28;01mas\u001b[39;00m\u001b[38;5;250m \u001b[39m\u001b[38;5;21;01mpd\u001b[39;00m\n\u001b[1;32m      2\u001b[0m cdbrfss \u001b[38;5;241m=\u001b[39m pd\u001b[38;5;241m.\u001b[39mread_csv(\u001b[38;5;124m'\u001b[39m\u001b[38;5;124mData/sample_cdbrfss.csv\u001b[39m\u001b[38;5;124m'\u001b[39m) \u001b[38;5;66;03m#inhalt aus sample datei wird gelesen\u001b[39;00m\n\u001b[0;32m----> 3\u001b[0m reduced_sample \u001b[38;5;241m=\u001b[39m \u001b[43mcdbrfss\u001b[49m\u001b[38;5;241;43m.\u001b[39;49m\u001b[43mloc\u001b[49m\u001b[43m[\u001b[49m\u001b[43m:\u001b[49m\u001b[43m[\u001b[49m\u001b[38;5;124;43m'\u001b[39;49m\u001b[38;5;124;43mGENHLTH\u001b[39;49m\u001b[38;5;124;43m'\u001b[39;49m\u001b[43m,\u001b[49m\u001b[43m \u001b[49m\u001b[38;5;124;43m'\u001b[39;49m\u001b[38;5;124;43mEXERANY\u001b[39;49m\u001b[38;5;124;43m'\u001b[39;49m\u001b[43m,\u001b[49m\u001b[43m \u001b[49m\u001b[38;5;124;43m'\u001b[39;49m\u001b[38;5;124;43mHTF\u001b[39;49m\u001b[38;5;124;43m'\u001b[39;49m\u001b[43m,\u001b[49m\u001b[43m \u001b[49m\u001b[38;5;124;43m'\u001b[39;49m\u001b[38;5;124;43mHTI\u001b[39;49m\u001b[38;5;124;43m'\u001b[39;49m\u001b[43m,\u001b[49m\u001b[43m \u001b[49m\u001b[38;5;124;43m'\u001b[39;49m\u001b[38;5;124;43mSMOKE100\u001b[39;49m\u001b[38;5;124;43m'\u001b[39;49m\u001b[43m,\u001b[49m\u001b[43m \u001b[49m\u001b[38;5;124;43m'\u001b[39;49m\u001b[38;5;124;43mWEIGHT\u001b[39;49m\u001b[38;5;124;43m'\u001b[39;49m\u001b[43m,\u001b[49m\u001b[43m \u001b[49m\u001b[38;5;124;43m'\u001b[39;49m\u001b[38;5;124;43mWTDESIRE\u001b[39;49m\u001b[38;5;124;43m'\u001b[39;49m\u001b[43m,\u001b[49m\u001b[43m \u001b[49m\u001b[38;5;124;43m'\u001b[39;49m\u001b[38;5;124;43mAGE\u001b[39;49m\u001b[38;5;124;43m'\u001b[39;49m\u001b[43m,\u001b[49m\u001b[43m \u001b[49m\u001b[38;5;124;43m'\u001b[39;49m\u001b[38;5;124;43mSEX\u001b[39;49m\u001b[38;5;124;43m'\u001b[39;49m\u001b[43m]\u001b[49m\u001b[43m]\u001b[49m\n\u001b[1;32m      4\u001b[0m \u001b[38;5;66;03m#behält nur die Spalten, die ich haben möchte\u001b[39;00m\n\u001b[1;32m      5\u001b[0m reduced_sample_cdbrfss \u001b[38;5;241m=\u001b[39m cdbrfss[reduced_sample]\n",
      "File \u001b[0;32m~/venv/lib/python3.10/site-packages/pandas/core/indexing.py:967\u001b[0m, in \u001b[0;36m_LocationIndexer.__getitem__\u001b[0;34m(self, key)\u001b[0m\n\u001b[1;32m    964\u001b[0m axis \u001b[38;5;241m=\u001b[39m \u001b[38;5;28mself\u001b[39m\u001b[38;5;241m.\u001b[39maxis \u001b[38;5;129;01mor\u001b[39;00m \u001b[38;5;241m0\u001b[39m\n\u001b[1;32m    966\u001b[0m maybe_callable \u001b[38;5;241m=\u001b[39m com\u001b[38;5;241m.\u001b[39mapply_if_callable(key, \u001b[38;5;28mself\u001b[39m\u001b[38;5;241m.\u001b[39mobj)\n\u001b[0;32m--> 967\u001b[0m \u001b[38;5;28;01mreturn\u001b[39;00m \u001b[38;5;28;43mself\u001b[39;49m\u001b[38;5;241;43m.\u001b[39;49m\u001b[43m_getitem_axis\u001b[49m\u001b[43m(\u001b[49m\u001b[43mmaybe_callable\u001b[49m\u001b[43m,\u001b[49m\u001b[43m \u001b[49m\u001b[43maxis\u001b[49m\u001b[38;5;241;43m=\u001b[39;49m\u001b[43maxis\u001b[49m\u001b[43m)\u001b[49m\n",
      "File \u001b[0;32m~/venv/lib/python3.10/site-packages/pandas/core/indexing.py:1183\u001b[0m, in \u001b[0;36m_LocIndexer._getitem_axis\u001b[0;34m(self, key, axis)\u001b[0m\n\u001b[1;32m   1181\u001b[0m \u001b[38;5;28;01mif\u001b[39;00m \u001b[38;5;28misinstance\u001b[39m(key, \u001b[38;5;28mslice\u001b[39m):\n\u001b[1;32m   1182\u001b[0m     \u001b[38;5;28mself\u001b[39m\u001b[38;5;241m.\u001b[39m_validate_key(key, axis)\n\u001b[0;32m-> 1183\u001b[0m     \u001b[38;5;28;01mreturn\u001b[39;00m \u001b[38;5;28;43mself\u001b[39;49m\u001b[38;5;241;43m.\u001b[39;49m\u001b[43m_get_slice_axis\u001b[49m\u001b[43m(\u001b[49m\u001b[43mkey\u001b[49m\u001b[43m,\u001b[49m\u001b[43m \u001b[49m\u001b[43maxis\u001b[49m\u001b[38;5;241;43m=\u001b[39;49m\u001b[43maxis\u001b[49m\u001b[43m)\u001b[49m\n\u001b[1;32m   1184\u001b[0m \u001b[38;5;28;01melif\u001b[39;00m com\u001b[38;5;241m.\u001b[39mis_bool_indexer(key):\n\u001b[1;32m   1185\u001b[0m     \u001b[38;5;28;01mreturn\u001b[39;00m \u001b[38;5;28mself\u001b[39m\u001b[38;5;241m.\u001b[39m_getbool_axis(key, axis\u001b[38;5;241m=\u001b[39maxis)\n",
      "File \u001b[0;32m~/venv/lib/python3.10/site-packages/pandas/core/indexing.py:1217\u001b[0m, in \u001b[0;36m_LocIndexer._get_slice_axis\u001b[0;34m(self, slice_obj, axis)\u001b[0m\n\u001b[1;32m   1214\u001b[0m     \u001b[38;5;28;01mreturn\u001b[39;00m obj\u001b[38;5;241m.\u001b[39mcopy(deep\u001b[38;5;241m=\u001b[39m\u001b[38;5;28;01mFalse\u001b[39;00m)\n\u001b[1;32m   1216\u001b[0m labels \u001b[38;5;241m=\u001b[39m obj\u001b[38;5;241m.\u001b[39m_get_axis(axis)\n\u001b[0;32m-> 1217\u001b[0m indexer \u001b[38;5;241m=\u001b[39m \u001b[43mlabels\u001b[49m\u001b[38;5;241;43m.\u001b[39;49m\u001b[43mslice_indexer\u001b[49m\u001b[43m(\u001b[49m\u001b[43mslice_obj\u001b[49m\u001b[38;5;241;43m.\u001b[39;49m\u001b[43mstart\u001b[49m\u001b[43m,\u001b[49m\u001b[43m \u001b[49m\u001b[43mslice_obj\u001b[49m\u001b[38;5;241;43m.\u001b[39;49m\u001b[43mstop\u001b[49m\u001b[43m,\u001b[49m\u001b[43m \u001b[49m\u001b[43mslice_obj\u001b[49m\u001b[38;5;241;43m.\u001b[39;49m\u001b[43mstep\u001b[49m\u001b[43m)\u001b[49m\n\u001b[1;32m   1219\u001b[0m \u001b[38;5;28;01mif\u001b[39;00m \u001b[38;5;28misinstance\u001b[39m(indexer, \u001b[38;5;28mslice\u001b[39m):\n\u001b[1;32m   1220\u001b[0m     \u001b[38;5;28;01mreturn\u001b[39;00m \u001b[38;5;28mself\u001b[39m\u001b[38;5;241m.\u001b[39mobj\u001b[38;5;241m.\u001b[39m_slice(indexer, axis\u001b[38;5;241m=\u001b[39maxis)\n",
      "File \u001b[0;32m~/venv/lib/python3.10/site-packages/pandas/core/indexes/base.py:6288\u001b[0m, in \u001b[0;36mIndex.slice_indexer\u001b[0;34m(self, start, end, step, kind)\u001b[0m\n\u001b[1;32m   6245\u001b[0m \u001b[38;5;250m\u001b[39m\u001b[38;5;124;03m\"\"\"\u001b[39;00m\n\u001b[1;32m   6246\u001b[0m \u001b[38;5;124;03mCompute the slice indexer for input labels and step.\u001b[39;00m\n\u001b[1;32m   6247\u001b[0m \n\u001b[0;32m   (...)\u001b[0m\n\u001b[1;32m   6284\u001b[0m \u001b[38;5;124;03mslice(1, 3, None)\u001b[39;00m\n\u001b[1;32m   6285\u001b[0m \u001b[38;5;124;03m\"\"\"\u001b[39;00m\n\u001b[1;32m   6286\u001b[0m \u001b[38;5;28mself\u001b[39m\u001b[38;5;241m.\u001b[39m_deprecated_arg(kind, \u001b[38;5;124m\"\u001b[39m\u001b[38;5;124mkind\u001b[39m\u001b[38;5;124m\"\u001b[39m, \u001b[38;5;124m\"\u001b[39m\u001b[38;5;124mslice_indexer\u001b[39m\u001b[38;5;124m\"\u001b[39m)\n\u001b[0;32m-> 6288\u001b[0m start_slice, end_slice \u001b[38;5;241m=\u001b[39m \u001b[38;5;28;43mself\u001b[39;49m\u001b[38;5;241;43m.\u001b[39;49m\u001b[43mslice_locs\u001b[49m\u001b[43m(\u001b[49m\u001b[43mstart\u001b[49m\u001b[43m,\u001b[49m\u001b[43m \u001b[49m\u001b[43mend\u001b[49m\u001b[43m,\u001b[49m\u001b[43m \u001b[49m\u001b[43mstep\u001b[49m\u001b[38;5;241;43m=\u001b[39;49m\u001b[43mstep\u001b[49m\u001b[43m)\u001b[49m\n\u001b[1;32m   6290\u001b[0m \u001b[38;5;66;03m# return a slice\u001b[39;00m\n\u001b[1;32m   6291\u001b[0m \u001b[38;5;28;01mif\u001b[39;00m \u001b[38;5;129;01mnot\u001b[39;00m is_scalar(start_slice):\n",
      "File \u001b[0;32m~/venv/lib/python3.10/site-packages/pandas/core/indexes/base.py:6504\u001b[0m, in \u001b[0;36mIndex.slice_locs\u001b[0;34m(self, start, end, step, kind)\u001b[0m\n\u001b[1;32m   6502\u001b[0m end_slice \u001b[38;5;241m=\u001b[39m \u001b[38;5;28;01mNone\u001b[39;00m\n\u001b[1;32m   6503\u001b[0m \u001b[38;5;28;01mif\u001b[39;00m end \u001b[38;5;129;01mis\u001b[39;00m \u001b[38;5;129;01mnot\u001b[39;00m \u001b[38;5;28;01mNone\u001b[39;00m:\n\u001b[0;32m-> 6504\u001b[0m     end_slice \u001b[38;5;241m=\u001b[39m \u001b[38;5;28;43mself\u001b[39;49m\u001b[38;5;241;43m.\u001b[39;49m\u001b[43mget_slice_bound\u001b[49m\u001b[43m(\u001b[49m\u001b[43mend\u001b[49m\u001b[43m,\u001b[49m\u001b[43m \u001b[49m\u001b[38;5;124;43m\"\u001b[39;49m\u001b[38;5;124;43mright\u001b[39;49m\u001b[38;5;124;43m\"\u001b[39;49m\u001b[43m)\u001b[49m\n\u001b[1;32m   6505\u001b[0m \u001b[38;5;28;01mif\u001b[39;00m end_slice \u001b[38;5;129;01mis\u001b[39;00m \u001b[38;5;28;01mNone\u001b[39;00m:\n\u001b[1;32m   6506\u001b[0m     end_slice \u001b[38;5;241m=\u001b[39m \u001b[38;5;28mlen\u001b[39m(\u001b[38;5;28mself\u001b[39m)\n",
      "File \u001b[0;32m~/venv/lib/python3.10/site-packages/pandas/core/indexes/base.py:6411\u001b[0m, in \u001b[0;36mIndex.get_slice_bound\u001b[0;34m(self, label, side, kind)\u001b[0m\n\u001b[1;32m   6409\u001b[0m \u001b[38;5;66;03m# we need to look up the label\u001b[39;00m\n\u001b[1;32m   6410\u001b[0m \u001b[38;5;28;01mtry\u001b[39;00m:\n\u001b[0;32m-> 6411\u001b[0m     slc \u001b[38;5;241m=\u001b[39m \u001b[38;5;28;43mself\u001b[39;49m\u001b[38;5;241;43m.\u001b[39;49m\u001b[43mget_loc\u001b[49m\u001b[43m(\u001b[49m\u001b[43mlabel\u001b[49m\u001b[43m)\u001b[49m\n\u001b[1;32m   6412\u001b[0m \u001b[38;5;28;01mexcept\u001b[39;00m \u001b[38;5;167;01mKeyError\u001b[39;00m \u001b[38;5;28;01mas\u001b[39;00m err:\n\u001b[1;32m   6413\u001b[0m     \u001b[38;5;28;01mtry\u001b[39;00m:\n",
      "File \u001b[0;32m~/venv/lib/python3.10/site-packages/pandas/core/indexes/range.py:388\u001b[0m, in \u001b[0;36mRangeIndex.get_loc\u001b[0;34m(self, key, method, tolerance)\u001b[0m\n\u001b[1;32m    386\u001b[0m         \u001b[38;5;28;01mexcept\u001b[39;00m \u001b[38;5;167;01mValueError\u001b[39;00m \u001b[38;5;28;01mas\u001b[39;00m err:\n\u001b[1;32m    387\u001b[0m             \u001b[38;5;28;01mraise\u001b[39;00m \u001b[38;5;167;01mKeyError\u001b[39;00m(key) \u001b[38;5;28;01mfrom\u001b[39;00m\u001b[38;5;250m \u001b[39m\u001b[38;5;21;01merr\u001b[39;00m\n\u001b[0;32m--> 388\u001b[0m     \u001b[38;5;28;43mself\u001b[39;49m\u001b[38;5;241;43m.\u001b[39;49m\u001b[43m_check_indexing_error\u001b[49m\u001b[43m(\u001b[49m\u001b[43mkey\u001b[49m\u001b[43m)\u001b[49m\n\u001b[1;32m    389\u001b[0m     \u001b[38;5;28;01mraise\u001b[39;00m \u001b[38;5;167;01mKeyError\u001b[39;00m(key)\n\u001b[1;32m    390\u001b[0m \u001b[38;5;28;01mreturn\u001b[39;00m \u001b[38;5;28msuper\u001b[39m()\u001b[38;5;241m.\u001b[39mget_loc(key, method\u001b[38;5;241m=\u001b[39mmethod, tolerance\u001b[38;5;241m=\u001b[39mtolerance)\n",
      "File \u001b[0;32m~/venv/lib/python3.10/site-packages/pandas/core/indexes/base.py:5651\u001b[0m, in \u001b[0;36mIndex._check_indexing_error\u001b[0;34m(self, key)\u001b[0m\n\u001b[1;32m   5647\u001b[0m \u001b[38;5;28;01mdef\u001b[39;00m\u001b[38;5;250m \u001b[39m\u001b[38;5;21m_check_indexing_error\u001b[39m(\u001b[38;5;28mself\u001b[39m, key):\n\u001b[1;32m   5648\u001b[0m     \u001b[38;5;28;01mif\u001b[39;00m \u001b[38;5;129;01mnot\u001b[39;00m is_scalar(key):\n\u001b[1;32m   5649\u001b[0m         \u001b[38;5;66;03m# if key is not a scalar, directly raise an error (the code below\u001b[39;00m\n\u001b[1;32m   5650\u001b[0m         \u001b[38;5;66;03m# would convert to numpy arrays and raise later any way) - GH29926\u001b[39;00m\n\u001b[0;32m-> 5651\u001b[0m         \u001b[38;5;28;01mraise\u001b[39;00m InvalidIndexError(key)\n",
      "\u001b[0;31mInvalidIndexError\u001b[0m: ['GENHLTH', 'EXERANY', 'HTF', 'HTI', 'SMOKE100', 'WEIGHT', 'WTDESIRE', 'AGE', 'SEX']"
     ]
    }
   ],
   "source": [
    "import pandas as pd\n",
    "cdbrfss = pd.read_csv('Data/sample_cdbrfss.csv') #inhalt aus sample datei wird gelesen\n",
    "reduced_sample = cdbrfss.loc[:['GENHLTH', 'EXERANY', 'HTF', 'HTI', 'SMOKE100', 'WEIGHT', 'WTDESIRE', 'AGE', 'SEX']]\n",
    "#behält nur die Spalten, die ich haben möchte\n",
    "reduced_sample_cdbrfss = cdbrfss[reduced_sample]\n",
    "#cdbrfss[reduced_sample.columns] #behält nur die Spalten, die ich haben möchte\n",
    "sample_cdbrfss_reduced = reduced_sample_cdbrfss.to_csv('Data/sample_cdbrfss_reduced.csv', index=False, encoding='ascii')\n",
    "#die neue csv datei wird erstellt\n",
    "print(sample_cdbrfss_reduced) # die neue csv datei wird ausgegeben"
   ]
  },
  {
   "cell_type": "markdown",
   "metadata": {},
   "source": [
    "**c.** How many cases and how many variables are there in your sample? **[2 points]**\n",
    "\n",
    "- (a) 9 cases; 30,000 variables\n",
    "\n",
    "- (b) 8 cases; 30,000 variables\n",
    "\n",
    "- (c) 30,000 cases; 9 variables\n",
    "\n",
    "- (d) 159,989 cases; 10 variables"
   ]
  },
  {
   "cell_type": "markdown",
   "metadata": {},
   "source": [
    "c)"
   ]
  },
  {
   "cell_type": "markdown",
   "metadata": {},
   "source": [
    "**d.** What type of variable is **genhlth**? **[2 points]**\n",
    "\n",
    "- (a) numerical, continuous\n",
    "\n",
    "- (b) numerical, discrete\n",
    "\n",
    "- (c) categorical (not ordinal)\n",
    "\n",
    "- (d) categorical, ordinal"
   ]
  },
  {
   "cell_type": "markdown",
   "metadata": {},
   "source": [
    "**e.** What type of variable is **weight**? **[2 points]**\n",
    "\n",
    "- (a) numerical, continuous\n",
    "\n",
    " - (b) numerical, discrete\n",
    "\n",
    " - (c) categorical (not ordinal)\n",
    "\n",
    " - (d) categorical, ordinal"
   ]
  },
  {
   "cell_type": "markdown",
   "metadata": {},
   "source": [
    "b)"
   ]
  },
  {
   "cell_type": "markdown",
   "metadata": {},
   "source": [
    "**f.** What type of variable is **smoke100**? **[2 points]**\n",
    "\n",
    " - (a) numerical, continuous\n",
    " \n",
    " - (b) numerical, discrete\n",
    " \n",
    " - (c) categorical (not ordinal)\n",
    " \n",
    " - (d) categorical, ordinal"
   ]
  },
  {
   "cell_type": "markdown",
   "metadata": {},
   "source": [
    "b)"
   ]
  },
  {
   "cell_type": "markdown",
   "metadata": {},
   "source": [
    "## One Bar chart\n",
    "\n",
    "Take all **genhlth** entries from your sample and draw a bar chart to visualize how the cases are distributed across the possible categories. Convert the numerical encoding to their represetations, e.g. 1 -> \"Excellent\". Check the data cookbook for details. **[10 points]**\n",
    "\n",
    "- You can use `DataFrame.value_counts` to return the distribution counts. [DOCUMENTATION](https://pandas.pydata.org/docs/reference/api/pandas.DataFrame.value_counts.html)\n",
    "\n",
    "- You can use `DataFrame.plot` to easily plot a Pandas Series or DataFrame. [DOCUMENTATION](https://pandas.pydata.org/docs/reference/api/pandas.DataFrame.plot.html)\n",
    "\n",
    "Label your axes!\n"
   ]
  },
  {
   "cell_type": "code",
   "execution_count": 38,
   "metadata": {},
   "outputs": [
    {
     "name": "stdout",
     "output_type": "stream",
     "text": [
      "1    6717\n",
      "2    9900\n",
      "3    8677\n",
      "4    3324\n",
      "5    1312\n",
      "7      61\n",
      "9       9\n",
      "Name: GENHLTH, dtype: int64\n"
     ]
    },
    {
     "ename": "AttributeError",
     "evalue": "'AxesSubplot' object has no attribute 'show'",
     "output_type": "error",
     "traceback": [
      "\u001b[0;31m---------------------------------------------------------------------------\u001b[0m",
      "\u001b[0;31mAttributeError\u001b[0m                            Traceback (most recent call last)",
      "Cell \u001b[0;32mIn[38], line 13\u001b[0m\n\u001b[1;32m     11\u001b[0m plot\u001b[38;5;241m.\u001b[39mset_yticks(\u001b[38;5;28mrange\u001b[39m(\u001b[38;5;241m0\u001b[39m, \u001b[38;5;241m10000\u001b[39m, \u001b[38;5;241m1000\u001b[39m)) \u001b[38;5;66;03m# y-Achse des Diagramms\u001b[39;00m\n\u001b[1;32m     12\u001b[0m plot\u001b[38;5;241m.\u001b[39mset_yticklabels(\u001b[38;5;28mrange\u001b[39m(\u001b[38;5;241m0\u001b[39m, \u001b[38;5;241m10000\u001b[39m, \u001b[38;5;241m1000\u001b[39m)) \u001b[38;5;66;03m# y-Achse des Diagramms\u001b[39;00m\n\u001b[0;32m---> 13\u001b[0m \u001b[43mplot\u001b[49m\u001b[38;5;241;43m.\u001b[39;49m\u001b[43mshow\u001b[49m() \u001b[38;5;66;03m# Diagramm wird angezeigt\u001b[39;00m\n",
      "\u001b[0;31mAttributeError\u001b[0m: 'AxesSubplot' object has no attribute 'show'"
     ]
    },
    {
     "data": {
      "image/png": "[encoded data removed]",
      "text/plain": [
       "<Figure size 1000x600 with 1 Axes>"
      ]
     },
     "metadata": {},
     "output_type": "display_data"
    }
   ],
   "source": [
    "import pandas as pd\n",
    "cdbrfss = pd.read_csv('Data/sample_cdbrfss.csv') #inhalt aus sample datei wird gelesen\n",
    "genhlth_counts = cdbrfss['GENHLTH'].value_counts().sort_index() # die Häufigkeit der Werte in der Spalte GENHLTH wird gezählt\n",
    "print(genhlth_counts) # die Häufigkeit der Werte in der Spalte GENHLTH wird ausgegeben\n",
    "\n",
    "plot = genhlth_counts.plot(kind='bar', figsize=(10, 6), color='skyblue') # die Häufigkeit der Werte in der Spalte GENHLTH wird als Balkendiagramm ausgegeben\n",
    "plot.set_title('Häufigkeit der Werte in der Spalte GENHLTH') # Titel des Diagramms\n",
    "plot.set_xlabel('Werte in der Spalte GENHLTH') # x-Achse des Diagramms\n",
    "plot.set_ylabel('Häufigkeit') # y-Achse des Diagramms\n",
    "plot.set_xticklabels(['Excellent', 'Very Good', 'Good', 'Fair', 'Poor', 'Nan1', 'NaN2'] , rotation=45) # x-Achse des Diagramms\n",
    "plot.set_yticks(range(0, 10000, 1000)) # y-Achse des Diagramms\n",
    "plot.set_yticklabels(range(0, 10000, 1000)) # y-Achse des Diagramms\n",
    "plot.show() # Diagramm wird angezeigt\n"
   ]
  },
  {
   "cell_type": "markdown",
   "metadata": {},
   "source": [
    "## Two Bar Charts\n",
    "\n",
    "Combine the **smoke100** with the **genhlth** entries from your sample and draw __TWO__ bar charts, one showing the health of the smokers and a second one showing the health of the non-smokers. **[15 points]**"
   ]
  },
  {
   "cell_type": "code",
   "execution_count": 46,
   "metadata": {},
   "outputs": [
    {
     "name": "stdout",
     "output_type": "stream",
     "text": [
      "Häufigkeiten von GENHLTH für Raucher (SMOKE100 == 1):\n",
      "1    2571\n",
      "2    4476\n",
      "3    4330\n",
      "4    1751\n",
      "5     803\n",
      "7      30\n",
      "9       2\n",
      "Name: GENHLTH, dtype: int64\n",
      "\n",
      "Häufigkeiten von GENHLTH für Nicht-Raucher (SMOKE100 == 2):\n",
      "1    4131\n",
      "2    5398\n",
      "3    4323\n",
      "4    1561\n",
      "5     503\n",
      "7      31\n",
      "9       5\n",
      "Name: GENHLTH, dtype: int64\n"
     ]
    },
    {
     "data": {
      "image/png": "[encoded data removed]",
      "text/plain": [
       "<Figure size 1000x600 with 1 Axes>"
      ]
     },
     "metadata": {},
     "output_type": "display_data"
    }
   ],
   "source": [
    "import pandas as pd\n",
    "import matplotlib.pyplot as plt\n",
    "cdbrfss = pd.read_csv('Data/sample_cdbrfss.csv') #inhalt aus sample datei wird gelesen\n",
    "\n",
    "#smokers\n",
    "smokers = cdbrfss[cdbrfss['SMOKE100'] == 1] # Filter für Raucher\n",
    "#non_smokers\n",
    "non_smokers = cdbrfss[cdbrfss['SMOKE100'] == 2] # Filter für Nichtraucher\n",
    "#Häufigkeiten der Werte in der Spalte GENHLTH für Raucher\n",
    "genhlth_counts = cdbrfss['GENHLTH'].value_counts().sort_index() # die Häufigkeit der Werte in der Spalte GENHLTH wird gezählt\n",
    "smoke_counts = cdbrfss['SMOKE100'].value_counts().sort_index() # die Häufigkeit der Werte in der Spalte SMOKE100 wird gezählt\n",
    "smokers_genhlth_counts = smokers['GENHLTH'].value_counts().sort_index() # die Häufigkeit der Werte in der Spalte GENHLTH wird gezählt\n",
    "non_smokers_genhlth_counts = non_smokers['GENHLTH'].value_counts().sort_index() # die Häufigkeit der Werte in der Spalte GENHLTH wird gezählt\n",
    "# Ergebnisse ausgeben\n",
    "print(\"Häufigkeiten von GENHLTH für Raucher (SMOKE100 == 1):\")\n",
    "print(smokers_genhlth_counts) # die Häufigkeit der Werte in der Spalte GENHLTH wird ausgegeben\n",
    "print(\"\\nHäufigkeiten von GENHLTH für Nicht-Raucher (SMOKE100 == 2):\")\n",
    "print(non_smokers_genhlth_counts) # die Häufigkeit der Werte in der Spalte GENHLTH wird ausgegeben\n",
    "#print(smoke_counts) # die Häufigkeit der Werte in der Spalte SMOKE100 wird ausgegeben\n",
    "#print(genhlth_counts) # die Häufigkeit der Werte in der Spalte GENHLTH wird ausgegeben\n",
    "\n",
    "plt.figure(figsize=(10, 6)) # Größe des Diagramms   \n",
    "plt.bar(smokers_genhlth_counts.index - 0.2, smokers_genhlth_counts.values, width=0.4, label='Raucher', color='blue') # die Häufigkeit der Werte in der Spalte GENHLTH wird als Balkendiagramm ausgegeben\n",
    "plt.bar(non_smokers_genhlth_counts.index + 0.2, non_smokers_genhlth_counts.values, width=0.4, label='Nicht-Raucher', color='orange') # die Häufigkeit der Werte in der Spalte GENHLTH wird als Balkendiagramm ausgegeben\n",
    "# Diagramm-Details\n",
    "plt.title('Verteilung von GENHLTH für Raucher und Nicht-Raucher') # Titel des Diagramms\n",
    "plt.xlabel('GENHLTH') # x-Achse des Diagramms\n",
    "plt.ylabel('Häufigkeit') # y-Achse des Diagramms\n",
    "plt.xticks(ticks=smokers_genhlth_counts.index,labels=['Excellent', 'Very Good', 'Good', 'Fair', 'Poor', 'NaN1', 'NaN2'])  # Setze die x-Achsen-Beschriftung\n",
    "plt.legend() # Legende des Diagramms\n",
    "# Diagramm anzeigen\n",
    "plt.show() # Diagramm wird angezeigt\n",
    "\n",
    "\n",
    "#plot1 = smokers_genhlth_counts.plot(kind='bar', figsize=(10, 6), color='skyblue') # die Häufigkeit der Werte in der Spalte GENHLTH wird als Balkendiagramm ausgegeben\n",
    "#plot1.set_title('Häufigkeit der Werte in der Spalte GENHLTH für Raucher') # Titel des Diagramms\n",
    "#plot1.set_xlabel('Werte in der Spalte GENHLTH') # x-Achse des Diagramms\n",
    "#plot1.set_ylabel('Häufigkeit') # y-Achse des Diagramms\n",
    "#plot1.set_xticklabels(['Excellent', 'Very Good', 'Good', 'Fair', 'Poor', 'Nan1', 'NaN2'] , rotation=45) # x-Achse des Diagramms\n",
    "#plot1.set_yticks(range(0, 10000, 1000)) # y-Achse des Diagramms\n",
    "#plot1.set_yticklabels(range(0, 10000, 1000)) # y-Achse des Diagramms\n",
    "#plot1.show() # Diagramm wird angezeigt\n",
    "\n",
    "#plot2 = non_smokers_genhlth_counts.plot(kind='bar', figsize=(10, 6), color='skyblue') # die Häufigkeit der Werte in der Spalte GENHLTH wird als Balkendiagramm ausgegeben\n",
    "#plot2.set_title('Häufigkeit der Werte in der Spalte GENHLTH für Nicht-Raucher') # Titel des Diagramms\n",
    "#plot2.set_xlabel('Werte in der Spalte GENHLTH') # x-Achse des Diagramms\n",
    "#plot2.set_ylabel('Häufigkeit') # y-Achse des Diagramms\n",
    "#plot2.set_xticklabels(['Excellent', 'Very Good', 'Good', 'Fair', 'Poor', 'Nan1', 'NaN2'] , rotation=45) # x-Achse des Diagramms\n",
    "#plot2.set_yticks(range(0, 10000, 1000)) # y-Achse des Diagramms\n",
    "#plot2.set_yticklabels(range(0, 10000, 1000)) # y-Achse des Diagramms\n",
    "#plot2.show() # Diagramm wird angezeigt\n",
    "\n"
   ]
  },
  {
   "cell_type": "markdown",
   "metadata": {},
   "source": [
    "## BMI\n",
    "\n",
    "Next let’s consider a new variable **bmi** that doesn’t show up directly in this data set: Body Mass Index (BMI).  **[20 points]**\n",
    "\n",
    "BMI is a weight to height ratio and can be calculated as.\n",
    "\n",
    "$$  \\mathrm{BMI} = \\frac{\\mathrm{weight(lb)}}{\\mathrm{height(in)}^2} * 703$$\n",
    "\n",
    "703 is the approximate conversion factor to change units to metric (meters and kilograms)\n",
    "from imperial (inches and pounds). Compute the bmi for each case in your sample and add it to\n",
    "the sample (e.g. as additional column). Visualize the distribution of the BMI in your sample.\n",
    "\n",
    "**ATTENTION**: Remember, that the height was given in feet and inches separately. make sure\n",
    "to compute the total height in inches! \n",
    "\n",
    "Look up the Cookbook definition. Note that the values in the height columns may have special values indicating invalid entries. E.g. 777 corresponds to an unknown or uincertain height in inches and 999 corresponds to a refused answer. Similar  issues arise with the height in feet numbers. Make sure to clean your data from these invalid entries. \n",
    "\n",
    "**HINT** You can use the `DataFrame.isin` method ( [DOCUMENTATION](https://pandas.pydata.org/docs/reference/api/pandas.DataFrame.isin.html)) together with the logical NOT operator `~` to only select contents from a list that are not in a list of values. Don't forget to convert feet to inches. The units package helps: "
   ]
  },
  {
   "cell_type": "code",
   "execution_count": 43,
   "metadata": {},
   "outputs": [
    {
     "data": {
      "text/plain": [
       "12.0"
      ]
     },
     "execution_count": 43,
     "metadata": {},
     "output_type": "execute_result"
    }
   ],
   "source": [
    "(1 * u.imperial.foot).to(u.imperial.inch).value"
   ]
  },
  {
   "cell_type": "markdown",
   "metadata": {},
   "source": [
    "# 2. Multi-Dimensional Visualization [30 Points]\n",
    "\n",
    "There are many different possibilities to visualize data. In this exercise you should select a particular\n",
    "suitable way to visualize the provided data sets. Think about what information you want to relay and\n",
    "what method works best - be creative (especially for the high-dimensional data.\n",
    "\n",
    "The directory Data/ contains all data files for this problem in CSV-format.\n",
    "\n",
    "Here is a brief example on how to plot data from a Pandas dataframe."
   ]
  },
  {
   "cell_type": "code",
   "execution_count": 44,
   "metadata": {},
   "outputs": [],
   "source": [
    "import numpy as np\n",
    "import pandas as pd\n",
    "from matplotlib import pyplot as plt "
   ]
  },
  {
   "cell_type": "markdown",
   "metadata": {},
   "source": [
    "Remember that Pandas allows to plot data very easily ([DOCUMENTATION](https://pandas.pydata.org/docs/reference/api/pandas.DataFrame.plot.html)):"
   ]
  },
  {
   "cell_type": "code",
   "execution_count": 45,
   "metadata": {},
   "outputs": [
    {
     "data": {
      "image/png": "[encoded data removed]",
      "text/plain": [
       "<Figure size 432x288 with 1 Axes>"
      ]
     },
     "metadata": {
      "needs_background": "light"
     },
     "output_type": "display_data"
    },
    {
     "data": {
      "image/png": "[encoded data removed]",
      "text/plain": [
       "<Figure size 432x288 with 1 Axes>"
      ]
     },
     "metadata": {
      "needs_background": "light"
     },
     "output_type": "display_data"
    }
   ],
   "source": [
    "df = pd.DataFrame({'lab':['A', 'B', 'C'], 'val':[10, 30, 20]})\n",
    "\n",
    "ax = df.plot(kind='bar', x='lab', y='val', rot=0)\n",
    "\n",
    "ax = df.plot(title=\"DataFrame Plot\")"
   ]
  },
  {
   "cell_type": "markdown",
   "metadata": {},
   "source": [
    "## 1-D data\n",
    "\n",
    "Load the data in `Data/DATA-Exercise1-1D.csv`.\n",
    "\n",
    "Show the results of 1000 coin tosses (head \"H\" or tail \"T\").  **[5 points]**"
   ]
  },
  {
   "cell_type": "markdown",
   "metadata": {
    "jp-MarkdownHeadingCollapsed": true
   },
   "source": [
    "## 2-D data\n",
    "\n",
    "Load the data in `Data/DATA-Exercise1-2D.csv`.\n",
    "\n",
    "Plot the world population since 10 000 B.C.  **[5 points]**"
   ]
  },
  {
   "cell_type": "markdown",
   "metadata": {},
   "source": [
    "## 3-D data\n",
    "\n",
    "Load the data in `Data/DATA-Exercise1-3D.csv`.\n",
    "\n",
    "Display the intensity map (using the columns x, y, and intensity).  **[5 points]**"
   ]
  },
  {
   "cell_type": "markdown",
   "metadata": {},
   "source": [
    "## 4-D data\n",
    "\n",
    "Load the data in `Data/DATA-Exercise1-3D.csv`.\n",
    "\n",
    "How will you show the volume properties (using columns x, y, z, and value)  **[5 points]**"
   ]
  },
  {
   "cell_type": "markdown",
   "metadata": {},
   "source": [
    "## 5-D data\n",
    "\n",
    "Load the data in `Data/DATA-Exercise1-4D.csv`.\n",
    "\n",
    "Represent this table with columns \"Country\", \"PovertyFraction\", \"GDPPerCapita $\", \"MilitaryExpenditureFraction\", \"Population\". **[5 points]**"
   ]
  },
  {
   "cell_type": "markdown",
   "metadata": {},
   "source": [
    "## 6-D data\n",
    "\n",
    "Load the data in `Data/DATA-Exercise1-6D.csv`.\n",
    "\n",
    "Find a way to visually represent the data (with columns x, y, z, size, val, direction angle).  **[5 points]**"
   ]
  }
 ],
 "metadata": {
  "date": "",
  "kernelspec": {
   "display_name": "venv",
   "language": "python",
   "name": "python3"
  },
  "language_info": {
   "codemirror_mode": {
    "name": "ipython",
    "version": 3
   },
   "file_extension": ".py",
   "mimetype": "text/x-python",
   "name": "python",
   "nbconvert_exporter": "python",
   "pygments_lexer": "ipython3",
   "version": "3.10.12"
  },
  "title": ""
 },
 "nbformat": 4,
 "nbformat_minor": 4
}
